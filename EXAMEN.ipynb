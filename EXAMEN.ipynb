{
  "nbformat": 4,
  "nbformat_minor": 0,
  "metadata": {
    "colab": {
      "provenance": [],
      "authorship_tag": "ABX9TyOiyG0X0xL4Q5UH/veJNhch",
      "include_colab_link": true
    },
    "kernelspec": {
      "name": "python3",
      "display_name": "Python 3"
    },
    "language_info": {
      "name": "python"
    }
  },
  "cells": [
    {
      "cell_type": "markdown",
      "metadata": {
        "id": "view-in-github",
        "colab_type": "text"
      },
      "source": [
        "<a href=\"https://colab.research.google.com/github/julio2777/Examen-final/blob/main/EXAMEN.ipynb\" target=\"_parent\"><img src=\"https://colab.research.google.com/assets/colab-badge.svg\" alt=\"Open In Colab\"/></a>"
      ]
    },
    {
      "cell_type": "markdown",
      "source": [
        "Escribe una funcion de Python en collaboratory que realice lo siguiente:\n",
        "\n",
        "funcion que retorne el resultado del area de un triangulo\n",
        "\n",
        "Escribir codigo que mande llamar la funcion y desplegar el resultado,\n",
        "\n",
        "Escribir enlace a GITHUB a un dcto que se llame INICIALES_PY_exa1"
      ],
      "metadata": {
        "id": "Myw-OjqC_VGz"
      }
    },
    {
      "cell_type": "code",
      "execution_count": null,
      "metadata": {
        "id": "mAAb-v8A9DfM"
      },
      "outputs": [],
      "source": [
        "def funcion():\n",
        "  base = int(input(\"INTRODUCE LA BASE \"))\n",
        "  altura = int(input(\"INTRODUCE LA ALTURA \"))\n",
        "  area = (base * altura)/2\n",
        "  print(area)\n",
        "print(\"[1] AREA DE UN TRAINGULO\")\n",
        "op = int(input(\"ELIGE UNA OPCION\"))\n",
        "if op == 1:\n",
        "  funcion()"
      ]
    }
  ]
}